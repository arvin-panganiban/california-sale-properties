{
 "cells": [
  {
   "cell_type": "markdown",
   "id": "8bca0e01",
   "metadata": {},
   "source": [
    "# California Sale Properties\n",
    "Based on the data from realtor.com (December 2022)"
   ]
  },
  {
   "cell_type": "code",
   "execution_count": 2,
   "id": "3f6f7e87",
   "metadata": {},
   "outputs": [
    {
     "data": {
      "text/html": [
       "<table>\n",
       "<thead><tr><th scope=col>price</th><th scope=col>bed</th><th scope=col>bath</th><th scope=col>sqft</th><th scope=col>acre_sqft_lot</th><th scope=col>address</th></tr></thead>\n",
       "<tbody>\n",
       "\t<tr><td>$1,195,000                                </td><td>4bed                                      </td><td>3.5bath                                   </td><td>2,862sqft                                 </td><td>5acre lot                                 </td><td>10130 LA Clair Rd, Wilton, CA 95693       </td></tr>\n",
       "\t<tr><td>$564,900                                  </td><td>2bed                                      </td><td>2.5bath                                   </td><td>2,230sqft                                 </td><td>7,405sqft lot                             </td><td>40389 Calle Ebano, Indio, CA 92203        </td></tr>\n",
       "\t<tr><td>$599,999                                  </td><td>3bed                                      </td><td>2bath                                     </td><td>2,168sqft                                 </td><td>8,712sqft lot                             </td><td>135 Hillside Pl, Jackson, CA 95642        </td></tr>\n",
       "\t<tr><td>$735,000                                  </td><td>3bed                                      </td><td>2bath                                     </td><td>1,583sqft                                 </td><td>5,227sqft lot                             </td><td>54960 Avenida Rubio, La Quinta, CA 92253  </td></tr>\n",
       "\t<tr><td>$554,900                                  </td><td>3bed                                      </td><td>2.5bath                                   </td><td>2,617sqft                                 </td><td>9,148sqft lot                             </td><td>22204 Tumbleweed Dr, Canyon Lake, CA 92587</td></tr>\n",
       "\t<tr><td>$89,500                                   </td><td>2bed                                      </td><td>2bath                                     </td><td>1,040sqft                                 </td><td>21.66acre lot                             </td><td>13 Oakwood Dr Unit 13, Petaluma, CA 94954 </td></tr>\n",
       "</tbody>\n",
       "</table>\n"
      ],
      "text/latex": [
       "\\begin{tabular}{r|llllll}\n",
       " price & bed & bath & sqft & acre\\_sqft\\_lot & address\\\\\n",
       "\\hline\n",
       "\t \\$1,195,000                               & 4bed                                       & 3.5bath                                    & 2,862sqft                                  & 5acre lot                                  & 10130 LA Clair Rd, Wilton, CA 95693       \\\\\n",
       "\t \\$564,900                                 & 2bed                                       & 2.5bath                                    & 2,230sqft                                  & 7,405sqft lot                              & 40389 Calle Ebano, Indio, CA 92203        \\\\\n",
       "\t \\$599,999                                 & 3bed                                       & 2bath                                      & 2,168sqft                                  & 8,712sqft lot                              & 135 Hillside Pl, Jackson, CA 95642        \\\\\n",
       "\t \\$735,000                                 & 3bed                                       & 2bath                                      & 1,583sqft                                  & 5,227sqft lot                              & 54960 Avenida Rubio, La Quinta, CA 92253  \\\\\n",
       "\t \\$554,900                                 & 3bed                                       & 2.5bath                                    & 2,617sqft                                  & 9,148sqft lot                              & 22204 Tumbleweed Dr, Canyon Lake, CA 92587\\\\\n",
       "\t \\$89,500                                  & 2bed                                       & 2bath                                      & 1,040sqft                                  & 21.66acre lot                              & 13 Oakwood Dr Unit 13, Petaluma, CA 94954 \\\\\n",
       "\\end{tabular}\n"
      ],
      "text/markdown": [
       "\n",
       "| price | bed | bath | sqft | acre_sqft_lot | address |\n",
       "|---|---|---|---|---|---|\n",
       "| $1,195,000                                 | 4bed                                       | 3.5bath                                    | 2,862sqft                                  | 5acre lot                                  | 10130 LA Clair Rd, Wilton, CA 95693        |\n",
       "| $564,900                                   | 2bed                                       | 2.5bath                                    | 2,230sqft                                  | 7,405sqft lot                              | 40389 Calle Ebano, Indio, CA 92203         |\n",
       "| $599,999                                   | 3bed                                       | 2bath                                      | 2,168sqft                                  | 8,712sqft lot                              | 135 Hillside Pl, Jackson, CA 95642         |\n",
       "| $735,000                                   | 3bed                                       | 2bath                                      | 1,583sqft                                  | 5,227sqft lot                              | 54960 Avenida Rubio, La Quinta, CA 92253   |\n",
       "| $554,900                                   | 3bed                                       | 2.5bath                                    | 2,617sqft                                  | 9,148sqft lot                              | 22204 Tumbleweed Dr, Canyon Lake, CA 92587 |\n",
       "| $89,500                                    | 2bed                                       | 2bath                                      | 1,040sqft                                  | 21.66acre lot                              | 13 Oakwood Dr Unit 13, Petaluma, CA 94954  |\n",
       "\n"
      ],
      "text/plain": [
       "  price      bed  bath    sqft      acre_sqft_lot\n",
       "1 $1,195,000 4bed 3.5bath 2,862sqft 5acre lot    \n",
       "2 $564,900   2bed 2.5bath 2,230sqft 7,405sqft lot\n",
       "3 $599,999   3bed 2bath   2,168sqft 8,712sqft lot\n",
       "4 $735,000   3bed 2bath   1,583sqft 5,227sqft lot\n",
       "5 $554,900   3bed 2.5bath 2,617sqft 9,148sqft lot\n",
       "6 $89,500    2bed 2bath   1,040sqft 21.66acre lot\n",
       "  address                                   \n",
       "1 10130 LA Clair Rd, Wilton, CA 95693       \n",
       "2 40389 Calle Ebano, Indio, CA 92203        \n",
       "3 135 Hillside Pl, Jackson, CA 95642        \n",
       "4 54960 Avenida Rubio, La Quinta, CA 92253  \n",
       "5 22204 Tumbleweed Dr, Canyon Lake, CA 92587\n",
       "6 13 Oakwood Dr Unit 13, Petaluma, CA 94954 "
      ]
     },
     "metadata": {},
     "output_type": "display_data"
    }
   ],
   "source": [
    "library(\"stringr\")\n",
    "library(\"ggplot2\")\n",
    "housing <- read.csv(\"C:\\\\Users\\\\Mumen Rider\\\\Desktop\\\\Sale Properties in California\\\\realtor_california_for_sale.csv\")\n",
    "head(housing)"
   ]
  },
  {
   "cell_type": "markdown",
   "id": "53c9ae22",
   "metadata": {},
   "source": [
    "## Cleaning values for each column"
   ]
  },
  {
   "cell_type": "code",
   "execution_count": 3,
   "id": "a6b1b166",
   "metadata": {},
   "outputs": [],
   "source": [
    "housing$price <- sub('.','', housing$price)\n",
    "housing$price <- sub('\\\\$.*','', housing$price)\n",
    "housing$price <- gsub(',','', housing$price)\n",
    "housing$price <- as.integer(housing$price)"
   ]
  },
  {
   "cell_type": "code",
   "execution_count": 4,
   "id": "4603136f",
   "metadata": {},
   "outputs": [],
   "source": [
    "housing$bed <- sub('bed','', housing$bed)\n",
    "housing$bed[housing$bed=='Studio'] <- '1'\n",
    "housing$bed <- as.integer(housing$bed)"
   ]
  },
  {
   "cell_type": "code",
   "execution_count": 5,
   "id": "a33c16c6",
   "metadata": {},
   "outputs": [],
   "source": [
    "housing$bath <- sub('bath','', housing$bath)\n",
    "housing$bath <- sub('\\\\+','', housing$bath)\n",
    "housing$bath <- as.numeric(housing$bath)"
   ]
  },
  {
   "cell_type": "code",
   "execution_count": 6,
   "id": "a9c597ec",
   "metadata": {},
   "outputs": [],
   "source": [
    "housing$sqft <- sub('sqft','', housing$sqft)\n",
    "housing$sqft <- sub(',','', housing$sqft)\n",
    "housing$sqft <- as.integer(housing$sqft)"
   ]
  },
  {
   "cell_type": "code",
   "execution_count": 7,
   "id": "2be58975",
   "metadata": {},
   "outputs": [],
   "source": [
    "sqft <- housing[str_detect(housing$acre_sqft_lot, 'sqft'),]\n",
    "colnames(sqft)[5] <- 'sqft_lot'\n",
    "\n",
    "sqft$sqft_lot <- sub('s.*','', sqft$sqft_lot)\n",
    "sqft$sqft_lot <- gsub(',','', sqft$sqft_lot)\n",
    "sqft$sqft_lot <- as.integer(sqft$sqft_lot)"
   ]
  },
  {
   "cell_type": "code",
   "execution_count": 8,
   "id": "27165e39",
   "metadata": {
    "scrolled": true
   },
   "outputs": [
    {
     "data": {
      "text/html": [
       "<table>\n",
       "<thead><tr><th></th><th scope=col>price</th><th scope=col>bed</th><th scope=col>bath</th><th scope=col>sqft</th><th scope=col>sqft_lot</th><th scope=col>address</th></tr></thead>\n",
       "<tbody>\n",
       "\t<tr><th scope=row>2</th><td>564900                                    </td><td>2                                         </td><td>2.5                                       </td><td>2230                                      </td><td>7405                                      </td><td>40389 Calle Ebano, Indio, CA 92203        </td></tr>\n",
       "\t<tr><th scope=row>3</th><td>599999                                    </td><td>3                                         </td><td>2.0                                       </td><td>2168                                      </td><td>8712                                      </td><td>135 Hillside Pl, Jackson, CA 95642        </td></tr>\n",
       "\t<tr><th scope=row>4</th><td>735000                                    </td><td>3                                         </td><td>2.0                                       </td><td>1583                                      </td><td>5227                                      </td><td>54960 Avenida Rubio, La Quinta, CA 92253  </td></tr>\n",
       "\t<tr><th scope=row>5</th><td>554900                                    </td><td>3                                         </td><td>2.5                                       </td><td>2617                                      </td><td>9148                                      </td><td>22204 Tumbleweed Dr, Canyon Lake, CA 92587</td></tr>\n",
       "\t<tr><th scope=row>8</th><td>320000                                    </td><td>1                                         </td><td>1.0                                       </td><td> 968                                      </td><td>4620                                      </td><td>3764 Suter St, Oakland, CA 94619          </td></tr>\n",
       "\t<tr><th scope=row>9</th><td>635000                                    </td><td>2                                         </td><td>2.0                                       </td><td>1000                                      </td><td>3733                                      </td><td>734 Tommy Dorsey Ct, Windsor, CA 95492    </td></tr>\n",
       "</tbody>\n",
       "</table>\n"
      ],
      "text/latex": [
       "\\begin{tabular}{r|llllll}\n",
       "  & price & bed & bath & sqft & sqft\\_lot & address\\\\\n",
       "\\hline\n",
       "\t2 & 564900                                     & 2                                          & 2.5                                        & 2230                                       & 7405                                       & 40389 Calle Ebano, Indio, CA 92203        \\\\\n",
       "\t3 & 599999                                     & 3                                          & 2.0                                        & 2168                                       & 8712                                       & 135 Hillside Pl, Jackson, CA 95642        \\\\\n",
       "\t4 & 735000                                     & 3                                          & 2.0                                        & 1583                                       & 5227                                       & 54960 Avenida Rubio, La Quinta, CA 92253  \\\\\n",
       "\t5 & 554900                                     & 3                                          & 2.5                                        & 2617                                       & 9148                                       & 22204 Tumbleweed Dr, Canyon Lake, CA 92587\\\\\n",
       "\t8 & 320000                                     & 1                                          & 1.0                                        &  968                                       & 4620                                       & 3764 Suter St, Oakland, CA 94619          \\\\\n",
       "\t9 & 635000                                     & 2                                          & 2.0                                        & 1000                                       & 3733                                       & 734 Tommy Dorsey Ct, Windsor, CA 95492    \\\\\n",
       "\\end{tabular}\n"
      ],
      "text/markdown": [
       "\n",
       "| <!--/--> | price | bed | bath | sqft | sqft_lot | address |\n",
       "|---|---|---|---|---|---|---|\n",
       "| 2 | 564900                                     | 2                                          | 2.5                                        | 2230                                       | 7405                                       | 40389 Calle Ebano, Indio, CA 92203         |\n",
       "| 3 | 599999                                     | 3                                          | 2.0                                        | 2168                                       | 8712                                       | 135 Hillside Pl, Jackson, CA 95642         |\n",
       "| 4 | 735000                                     | 3                                          | 2.0                                        | 1583                                       | 5227                                       | 54960 Avenida Rubio, La Quinta, CA 92253   |\n",
       "| 5 | 554900                                     | 3                                          | 2.5                                        | 2617                                       | 9148                                       | 22204 Tumbleweed Dr, Canyon Lake, CA 92587 |\n",
       "| 8 | 320000                                     | 1                                          | 1.0                                        |  968                                       | 4620                                       | 3764 Suter St, Oakland, CA 94619           |\n",
       "| 9 | 635000                                     | 2                                          | 2.0                                        | 1000                                       | 3733                                       | 734 Tommy Dorsey Ct, Windsor, CA 95492     |\n",
       "\n"
      ],
      "text/plain": [
       "  price  bed bath sqft sqft_lot address                                   \n",
       "2 564900 2   2.5  2230 7405     40389 Calle Ebano, Indio, CA 92203        \n",
       "3 599999 3   2.0  2168 8712     135 Hillside Pl, Jackson, CA 95642        \n",
       "4 735000 3   2.0  1583 5227     54960 Avenida Rubio, La Quinta, CA 92253  \n",
       "5 554900 3   2.5  2617 9148     22204 Tumbleweed Dr, Canyon Lake, CA 92587\n",
       "8 320000 1   1.0   968 4620     3764 Suter St, Oakland, CA 94619          \n",
       "9 635000 2   2.0  1000 3733     734 Tommy Dorsey Ct, Windsor, CA 95492    "
      ]
     },
     "metadata": {},
     "output_type": "display_data"
    }
   ],
   "source": [
    "head(sqft)"
   ]
  },
  {
   "cell_type": "code",
   "execution_count": 9,
   "id": "9593bf12",
   "metadata": {
    "scrolled": true
   },
   "outputs": [],
   "source": [
    "acre <- housing[str_detect(housing$acre_sqft_lot, 'acre'),]\n",
    "colnames(acre)[5] <- 'acre_lot'\n",
    "\n",
    "acre$acre_lot <- sub('a.*','', acre$acre_lot)\n",
    "acre$acre_lot <- gsub(',','', acre$acre_lot)\n",
    "acre$acre_lot <- as.numeric(acre$acre_lot)"
   ]
  },
  {
   "cell_type": "code",
   "execution_count": 10,
   "id": "9dda4d94",
   "metadata": {
    "scrolled": true
   },
   "outputs": [
    {
     "data": {
      "text/html": [
       "<table>\n",
       "<thead><tr><th></th><th scope=col>price</th><th scope=col>bed</th><th scope=col>bath</th><th scope=col>sqft</th><th scope=col>acre_lot</th><th scope=col>address</th></tr></thead>\n",
       "<tbody>\n",
       "\t<tr><th scope=row>1</th><td>1195000                                     </td><td>4                                           </td><td>3.5                                         </td><td>2862                                        </td><td> 5.00                                       </td><td>10130 LA Clair Rd, Wilton, CA 95693         </td></tr>\n",
       "\t<tr><th scope=row>6</th><td>  89500                                     </td><td>2                                           </td><td>2.0                                         </td><td>1040                                        </td><td>21.66                                       </td><td>13 Oakwood Dr Unit 13, Petaluma, CA 94954   </td></tr>\n",
       "\t<tr><th scope=row>7</th><td> 599000                                     </td><td>3                                           </td><td>3.5                                         </td><td>2606                                        </td><td> 6.92                                       </td><td>30101 Dove Ct, Tehachapi, CA 93561          </td></tr>\n",
       "\t<tr><th scope=row>12</th><td> 495000                                     </td><td>3                                           </td><td>2.0                                         </td><td>1516                                        </td><td> 0.85                                       </td><td>17652 Cindy Ln, Grass Valley, CA 95945      </td></tr>\n",
       "\t<tr><th scope=row>15</th><td> 319000                                     </td><td>3                                           </td><td>2.0                                         </td><td>1757                                        </td><td> 0.32                                       </td><td>20800 Melville Dr, California City, CA 93505</td></tr>\n",
       "\t<tr><th scope=row>17</th><td> 979000                                     </td><td>4                                           </td><td>2.0                                         </td><td>2515                                        </td><td> 1.34                                       </td><td>11805 Costalot Ln, Lakeside, CA 92040       </td></tr>\n",
       "</tbody>\n",
       "</table>\n"
      ],
      "text/latex": [
       "\\begin{tabular}{r|llllll}\n",
       "  & price & bed & bath & sqft & acre\\_lot & address\\\\\n",
       "\\hline\n",
       "\t1 & 1195000                                      & 4                                            & 3.5                                          & 2862                                         &  5.00                                        & 10130 LA Clair Rd, Wilton, CA 95693         \\\\\n",
       "\t6 &   89500                                      & 2                                            & 2.0                                          & 1040                                         & 21.66                                        & 13 Oakwood Dr Unit 13, Petaluma, CA 94954   \\\\\n",
       "\t7 &  599000                                      & 3                                            & 3.5                                          & 2606                                         &  6.92                                        & 30101 Dove Ct, Tehachapi, CA 93561          \\\\\n",
       "\t12 &  495000                                      & 3                                            & 2.0                                          & 1516                                         &  0.85                                        & 17652 Cindy Ln, Grass Valley, CA 95945      \\\\\n",
       "\t15 &  319000                                      & 3                                            & 2.0                                          & 1757                                         &  0.32                                        & 20800 Melville Dr, California City, CA 93505\\\\\n",
       "\t17 &  979000                                      & 4                                            & 2.0                                          & 2515                                         &  1.34                                        & 11805 Costalot Ln, Lakeside, CA 92040       \\\\\n",
       "\\end{tabular}\n"
      ],
      "text/markdown": [
       "\n",
       "| <!--/--> | price | bed | bath | sqft | acre_lot | address |\n",
       "|---|---|---|---|---|---|---|\n",
       "| 1 | 1195000                                      | 4                                            | 3.5                                          | 2862                                         |  5.00                                        | 10130 LA Clair Rd, Wilton, CA 95693          |\n",
       "| 6 |   89500                                      | 2                                            | 2.0                                          | 1040                                         | 21.66                                        | 13 Oakwood Dr Unit 13, Petaluma, CA 94954    |\n",
       "| 7 |  599000                                      | 3                                            | 3.5                                          | 2606                                         |  6.92                                        | 30101 Dove Ct, Tehachapi, CA 93561           |\n",
       "| 12 |  495000                                      | 3                                            | 2.0                                          | 1516                                         |  0.85                                        | 17652 Cindy Ln, Grass Valley, CA 95945       |\n",
       "| 15 |  319000                                      | 3                                            | 2.0                                          | 1757                                         |  0.32                                        | 20800 Melville Dr, California City, CA 93505 |\n",
       "| 17 |  979000                                      | 4                                            | 2.0                                          | 2515                                         |  1.34                                        | 11805 Costalot Ln, Lakeside, CA 92040        |\n",
       "\n"
      ],
      "text/plain": [
       "   price   bed bath sqft acre_lot address                                     \n",
       "1  1195000 4   3.5  2862  5.00    10130 LA Clair Rd, Wilton, CA 95693         \n",
       "6    89500 2   2.0  1040 21.66    13 Oakwood Dr Unit 13, Petaluma, CA 94954   \n",
       "7   599000 3   3.5  2606  6.92    30101 Dove Ct, Tehachapi, CA 93561          \n",
       "12  495000 3   2.0  1516  0.85    17652 Cindy Ln, Grass Valley, CA 95945      \n",
       "15  319000 3   2.0  1757  0.32    20800 Melville Dr, California City, CA 93505\n",
       "17  979000 4   2.0  2515  1.34    11805 Costalot Ln, Lakeside, CA 92040       "
      ]
     },
     "metadata": {},
     "output_type": "display_data"
    }
   ],
   "source": [
    "head(acre)"
   ]
  },
  {
   "cell_type": "markdown",
   "id": "a13e5477",
   "metadata": {},
   "source": [
    "## Visualizing Data"
   ]
  },
  {
   "cell_type": "code",
   "execution_count": 19,
   "id": "c6a94020",
   "metadata": {
    "scrolled": true
   },
   "outputs": [],
   "source": [
    "options(repr.plot.height=5)\n",
    "plot_df <- data.frame(Characters=character(), Ints=integer(), stringsAsFactors=FALSE)\n",
    "colnames(plot_df) <- c('price_range', 'amount')"
   ]
  },
  {
   "cell_type": "code",
   "execution_count": 20,
   "id": "b363ac56",
   "metadata": {},
   "outputs": [],
   "source": [
    "for (x in seq(100000, 1000000, by=100000)){\n",
    "    min <- x-100000\n",
    "    range <- paste('$', as.integer(min)/1000, 'k - ', as.integer(x)/1000, 'k', sep='')\n",
    "    plot_df[nrow(plot_df)+1, ] <- c(range, nrow(subset(housing, housing$price > min & housing$price <= x)))\n",
    "}"
   ]
  },
  {
   "cell_type": "code",
   "execution_count": 21,
   "id": "c778771f",
   "metadata": {},
   "outputs": [],
   "source": [
    "for (x in seq(1250000, 2000000, by=250000)){\n",
    "    min <- x-250000\n",
    "    range <- paste('$', as.numeric(min)/1000000, 'M - ', as.numeric(x)/1000000, 'M', sep='')\n",
    "    plot_df[nrow(plot_df)+1, ] <- c(range, nrow(subset(housing, housing$price > min & housing$price <= x)))\n",
    "}"
   ]
  },
  {
   "cell_type": "code",
   "execution_count": 22,
   "id": "ced19271",
   "metadata": {},
   "outputs": [],
   "source": [
    "for (x in seq(2500000, 3000000, by=500000)){\n",
    "    min <- x-500000\n",
    "    range <- paste('$', as.numeric(min)/1000000, 'M - ', as.numeric(x)/1000000, 'M', sep='')\n",
    "    plot_df[nrow(plot_df)+1, ] <- c(range, nrow(subset(housing, housing$price > min & housing$price <= x)))\n",
    "}"
   ]
  },
  {
   "cell_type": "code",
   "execution_count": 23,
   "id": "b96b94d8",
   "metadata": {},
   "outputs": [],
   "source": [
    "for (x in seq(5000000, 7000000, by=2000000)){\n",
    "    min <- x-2000000\n",
    "    range <- paste('$', as.numeric(min)/1000000, 'M - ', as.numeric(x)/1000000, 'M', sep='')\n",
    "    plot_df[nrow(plot_df)+1, ] <- c(range, nrow(subset(housing, housing$price > min & housing$price <= x)))\n",
    "}"
   ]
  },
  {
   "cell_type": "code",
   "execution_count": 24,
   "id": "2459ef4c",
   "metadata": {},
   "outputs": [],
   "source": [
    "plot_df[nrow(plot_df)+1, ] <- c('>$7M', nrow(subset(housing, housing$price > 7000000)))"
   ]
  },
  {
   "cell_type": "code",
   "execution_count": 25,
   "id": "c5aba972",
   "metadata": {},
   "outputs": [],
   "source": [
    "plot_df$amount <- as.integer(plot_df$amount)"
   ]
  },
  {
   "cell_type": "code",
   "execution_count": 26,
   "id": "a086281c",
   "metadata": {
    "scrolled": false
   },
   "outputs": [
    {
     "data": {
      "image/png": "[encoded data removed]",
      "text/plain": [
       "plot without title"
      ]
     },
     "metadata": {},
     "output_type": "display_data"
    }
   ],
   "source": [
    "plot <- ggplot(plot_df, aes(price_range, amount)) + \n",
    "        geom_bar(stat='identity', fill='#619CFF') +\n",
    "        theme(axis.text.x = element_text(angle=45, vjust=1, hjust=1)) +\n",
    "        scale_y_continuous(limits = c(0,550), breaks=seq(0,550,100)) +\n",
    "        scale_x_discrete(limits=plot_df$price_range)\n",
    "plot"
   ]
  },
  {
   "cell_type": "code",
   "execution_count": null,
   "id": "2fcfd11d",
   "metadata": {},
   "outputs": [],
   "source": []
  },
  {
   "cell_type": "code",
   "execution_count": null,
   "id": "01b1fe55",
   "metadata": {},
   "outputs": [],
   "source": []
  },
  {
   "cell_type": "code",
   "execution_count": null,
   "id": "c183f461",
   "metadata": {},
   "outputs": [],
   "source": []
  },
  {
   "cell_type": "code",
   "execution_count": null,
   "id": "a9f2f6cd",
   "metadata": {},
   "outputs": [],
   "source": []
  },
  {
   "cell_type": "code",
   "execution_count": null,
   "id": "f16528f2",
   "metadata": {},
   "outputs": [],
   "source": []
  }
 ],
 "metadata": {
  "kernelspec": {
   "display_name": "R",
   "language": "R",
   "name": "ir"
  },
  "language_info": {
   "codemirror_mode": "r",
   "file_extension": ".r",
   "mimetype": "text/x-r-source",
   "name": "R",
   "pygments_lexer": "r",
   "version": "3.6.1"
  }
 },
 "nbformat": 4,
 "nbformat_minor": 5
}
