{
 "cells": [
  {
   "cell_type": "markdown",
   "id": "8bca0e01",
   "metadata": {},
   "source": [
    "# California Sale Properties\n",
    "Based on the data from realtor.com (December 2022). The goal of this notebook is to explore the dataset and give recommendation given their income level, funds, and preference."
   ]
  },
  {
   "cell_type": "code",
   "execution_count": 2,
   "id": "3f6f7e87",
   "metadata": {},
   "outputs": [
    {
     "data": {
      "text/html": [
       "<table>\n",
       "<thead><tr><th scope=col>price</th><th scope=col>bed</th><th scope=col>bath</th><th scope=col>sqft</th><th scope=col>acre_sqft_lot</th><th scope=col>address</th></tr></thead>\n",
       "<tbody>\n",
       "\t<tr><td>$1,195,000                                </td><td>4bed                                      </td><td>3.5bath                                   </td><td>2,862sqft                                 </td><td>5acre lot                                 </td><td>10130 LA Clair Rd, Wilton, CA 95693       </td></tr>\n",
       "\t<tr><td>$564,900                                  </td><td>2bed                                      </td><td>2.5bath                                   </td><td>2,230sqft                                 </td><td>7,405sqft lot                             </td><td>40389 Calle Ebano, Indio, CA 92203        </td></tr>\n",
       "\t<tr><td>$599,999                                  </td><td>3bed                                      </td><td>2bath                                     </td><td>2,168sqft                                 </td><td>8,712sqft lot                             </td><td>135 Hillside Pl, Jackson, CA 95642        </td></tr>\n",
       "\t<tr><td>$735,000                                  </td><td>3bed                                      </td><td>2bath                                     </td><td>1,583sqft                                 </td><td>5,227sqft lot                             </td><td>54960 Avenida Rubio, La Quinta, CA 92253  </td></tr>\n",
       "\t<tr><td>$554,900                                  </td><td>3bed                                      </td><td>2.5bath                                   </td><td>2,617sqft                                 </td><td>9,148sqft lot                             </td><td>22204 Tumbleweed Dr, Canyon Lake, CA 92587</td></tr>\n",
       "\t<tr><td>$89,500                                   </td><td>2bed                                      </td><td>2bath                                     </td><td>1,040sqft                                 </td><td>21.66acre lot                             </td><td>13 Oakwood Dr Unit 13, Petaluma, CA 94954 </td></tr>\n",
       "</tbody>\n",
       "</table>\n"
      ],
      "text/latex": [
       "\\begin{tabular}{r|llllll}\n",
       " price & bed & bath & sqft & acre\\_sqft\\_lot & address\\\\\n",
       "\\hline\n",
       "\t \\$1,195,000                               & 4bed                                       & 3.5bath                                    & 2,862sqft                                  & 5acre lot                                  & 10130 LA Clair Rd, Wilton, CA 95693       \\\\\n",
       "\t \\$564,900                                 & 2bed                                       & 2.5bath                                    & 2,230sqft                                  & 7,405sqft lot                              & 40389 Calle Ebano, Indio, CA 92203        \\\\\n",
       "\t \\$599,999                                 & 3bed                                       & 2bath                                      & 2,168sqft                                  & 8,712sqft lot                              & 135 Hillside Pl, Jackson, CA 95642        \\\\\n",
       "\t \\$735,000                                 & 3bed                                       & 2bath                                      & 1,583sqft                                  & 5,227sqft lot                              & 54960 Avenida Rubio, La Quinta, CA 92253  \\\\\n",
       "\t \\$554,900                                 & 3bed                                       & 2.5bath                                    & 2,617sqft                                  & 9,148sqft lot                              & 22204 Tumbleweed Dr, Canyon Lake, CA 92587\\\\\n",
       "\t \\$89,500                                  & 2bed                                       & 2bath                                      & 1,040sqft                                  & 21.66acre lot                              & 13 Oakwood Dr Unit 13, Petaluma, CA 94954 \\\\\n",
       "\\end{tabular}\n"
      ],
      "text/markdown": [
       "\n",
       "| price | bed | bath | sqft | acre_sqft_lot | address |\n",
       "|---|---|---|---|---|---|\n",
       "| $1,195,000                                 | 4bed                                       | 3.5bath                                    | 2,862sqft                                  | 5acre lot                                  | 10130 LA Clair Rd, Wilton, CA 95693        |\n",
       "| $564,900                                   | 2bed                                       | 2.5bath                                    | 2,230sqft                                  | 7,405sqft lot                              | 40389 Calle Ebano, Indio, CA 92203         |\n",
       "| $599,999                                   | 3bed                                       | 2bath                                      | 2,168sqft                                  | 8,712sqft lot                              | 135 Hillside Pl, Jackson, CA 95642         |\n",
       "| $735,000                                   | 3bed                                       | 2bath                                      | 1,583sqft                                  | 5,227sqft lot                              | 54960 Avenida Rubio, La Quinta, CA 92253   |\n",
       "| $554,900                                   | 3bed                                       | 2.5bath                                    | 2,617sqft                                  | 9,148sqft lot                              | 22204 Tumbleweed Dr, Canyon Lake, CA 92587 |\n",
       "| $89,500                                    | 2bed                                       | 2bath                                      | 1,040sqft                                  | 21.66acre lot                              | 13 Oakwood Dr Unit 13, Petaluma, CA 94954  |\n",
       "\n"
      ],
      "text/plain": [
       "  price      bed  bath    sqft      acre_sqft_lot\n",
       "1 $1,195,000 4bed 3.5bath 2,862sqft 5acre lot    \n",
       "2 $564,900   2bed 2.5bath 2,230sqft 7,405sqft lot\n",
       "3 $599,999   3bed 2bath   2,168sqft 8,712sqft lot\n",
       "4 $735,000   3bed 2bath   1,583sqft 5,227sqft lot\n",
       "5 $554,900   3bed 2.5bath 2,617sqft 9,148sqft lot\n",
       "6 $89,500    2bed 2bath   1,040sqft 21.66acre lot\n",
       "  address                                   \n",
       "1 10130 LA Clair Rd, Wilton, CA 95693       \n",
       "2 40389 Calle Ebano, Indio, CA 92203        \n",
       "3 135 Hillside Pl, Jackson, CA 95642        \n",
       "4 54960 Avenida Rubio, La Quinta, CA 92253  \n",
       "5 22204 Tumbleweed Dr, Canyon Lake, CA 92587\n",
       "6 13 Oakwood Dr Unit 13, Petaluma, CA 94954 "
      ]
     },
     "metadata": {},
     "output_type": "display_data"
    }
   ],
   "source": [
    "library(\"stringr\")\n",
    "library(\"ggplot2\")\n",
    "housing <- read.csv(\"C:\\\\Users\\\\Mumen Rider\\\\Desktop\\\\Sale Properties in California\\\\realtor_california_for_sale.csv\")\n",
    "head(housing)"
   ]
  },
  {
   "cell_type": "markdown",
   "id": "53c9ae22",
   "metadata": {},
   "source": [
    "## Cleaning values for each column\n",
    "Changing all the columns except for the addresses to be numerical to make it easier to visualize using ggplot."
   ]
  },
  {
   "cell_type": "code",
   "execution_count": 3,
   "id": "a6b1b166",
   "metadata": {},
   "outputs": [],
   "source": [
    "housing$price <- sub('.','', housing$price)\n",
    "housing$price <- sub('\\\\$.*','', housing$price)\n",
    "housing$price <- gsub(',','', housing$price)\n",
    "housing$price <- as.integer(housing$price)"
   ]
  },
  {
   "cell_type": "code",
   "execution_count": 4,
   "id": "4603136f",
   "metadata": {},
   "outputs": [],
   "source": [
    "housing$bed <- sub('bed','', housing$bed)\n",
    "housing$bed[housing$bed=='Studio'] <- '1'\n",
    "housing$bed <- as.integer(housing$bed)"
   ]
  },
  {
   "cell_type": "code",
   "execution_count": 5,
   "id": "a33c16c6",
   "metadata": {},
   "outputs": [],
   "source": [
    "housing$bath <- sub('bath','', housing$bath)\n",
    "housing$bath <- sub('\\\\+','', housing$bath)\n",
    "housing$bath <- as.numeric(housing$bath)"
   ]
  },
  {
   "cell_type": "code",
   "execution_count": 6,
   "id": "a9c597ec",
   "metadata": {},
   "outputs": [],
   "source": [
    "housing$sqft <- sub('sqft','', housing$sqft)\n",
    "housing$sqft <- sub(',','', housing$sqft)\n",
    "housing$sqft <- as.integer(housing$sqft)"
   ]
  },
  {
   "cell_type": "markdown",
   "id": "10367bd5",
   "metadata": {},
   "source": [
    "Separated sqft_lot and acre_lot into two dataframe. Acre_lot corresponds to home lot bigger than 10,000sqft."
   ]
  },
  {
   "cell_type": "code",
   "execution_count": 7,
   "id": "2be58975",
   "metadata": {},
   "outputs": [],
   "source": [
    "sqft <- housing[str_detect(housing$acre_sqft_lot, 'sqft'),]\n",
    "colnames(sqft)[5] <- 'sqft_lot'\n",
    "\n",
    "sqft$sqft_lot <- sub('s.*','', sqft$sqft_lot)\n",
    "sqft$sqft_lot <- gsub(',','', sqft$sqft_lot)\n",
    "sqft$sqft_lot <- as.integer(sqft$sqft_lot)"
   ]
  },
  {
   "cell_type": "code",
   "execution_count": 8,
   "id": "27165e39",
   "metadata": {
    "scrolled": true
   },
   "outputs": [
    {
     "data": {
      "text/html": [
       "<table>\n",
       "<thead><tr><th></th><th scope=col>price</th><th scope=col>bed</th><th scope=col>bath</th><th scope=col>sqft</th><th scope=col>sqft_lot</th><th scope=col>address</th></tr></thead>\n",
       "<tbody>\n",
       "\t<tr><th scope=row>2</th><td>564900                                    </td><td>2                                         </td><td>2.5                                       </td><td>2230                                      </td><td>7405                                      </td><td>40389 Calle Ebano, Indio, CA 92203        </td></tr>\n",
       "\t<tr><th scope=row>3</th><td>599999                                    </td><td>3                                         </td><td>2.0                                       </td><td>2168                                      </td><td>8712                                      </td><td>135 Hillside Pl, Jackson, CA 95642        </td></tr>\n",
       "\t<tr><th scope=row>4</th><td>735000                                    </td><td>3                                         </td><td>2.0                                       </td><td>1583                                      </td><td>5227                                      </td><td>54960 Avenida Rubio, La Quinta, CA 92253  </td></tr>\n",
       "\t<tr><th scope=row>5</th><td>554900                                    </td><td>3                                         </td><td>2.5                                       </td><td>2617                                      </td><td>9148                                      </td><td>22204 Tumbleweed Dr, Canyon Lake, CA 92587</td></tr>\n",
       "\t<tr><th scope=row>8</th><td>320000                                    </td><td>1                                         </td><td>1.0                                       </td><td> 968                                      </td><td>4620                                      </td><td>3764 Suter St, Oakland, CA 94619          </td></tr>\n",
       "\t<tr><th scope=row>9</th><td>635000                                    </td><td>2                                         </td><td>2.0                                       </td><td>1000                                      </td><td>3733                                      </td><td>734 Tommy Dorsey Ct, Windsor, CA 95492    </td></tr>\n",
       "</tbody>\n",
       "</table>\n"
      ],
      "text/latex": [
       "\\begin{tabular}{r|llllll}\n",
       "  & price & bed & bath & sqft & sqft\\_lot & address\\\\\n",
       "\\hline\n",
       "\t2 & 564900                                     & 2                                          & 2.5                                        & 2230                                       & 7405                                       & 40389 Calle Ebano, Indio, CA 92203        \\\\\n",
       "\t3 & 599999                                     & 3                                          & 2.0                                        & 2168                                       & 8712                                       & 135 Hillside Pl, Jackson, CA 95642        \\\\\n",
       "\t4 & 735000                                     & 3                                          & 2.0                                        & 1583                                       & 5227                                       & 54960 Avenida Rubio, La Quinta, CA 92253  \\\\\n",
       "\t5 & 554900                                     & 3                                          & 2.5                                        & 2617                                       & 9148                                       & 22204 Tumbleweed Dr, Canyon Lake, CA 92587\\\\\n",
       "\t8 & 320000                                     & 1                                          & 1.0                                        &  968                                       & 4620                                       & 3764 Suter St, Oakland, CA 94619          \\\\\n",
       "\t9 & 635000                                     & 2                                          & 2.0                                        & 1000                                       & 3733                                       & 734 Tommy Dorsey Ct, Windsor, CA 95492    \\\\\n",
       "\\end{tabular}\n"
      ],
      "text/markdown": [
       "\n",
       "| <!--/--> | price | bed | bath | sqft | sqft_lot | address |\n",
       "|---|---|---|---|---|---|---|\n",
       "| 2 | 564900                                     | 2                                          | 2.5                                        | 2230                                       | 7405                                       | 40389 Calle Ebano, Indio, CA 92203         |\n",
       "| 3 | 599999                                     | 3                                          | 2.0                                        | 2168                                       | 8712                                       | 135 Hillside Pl, Jackson, CA 95642         |\n",
       "| 4 | 735000                                     | 3                                          | 2.0                                        | 1583                                       | 5227                                       | 54960 Avenida Rubio, La Quinta, CA 92253   |\n",
       "| 5 | 554900                                     | 3                                          | 2.5                                        | 2617                                       | 9148                                       | 22204 Tumbleweed Dr, Canyon Lake, CA 92587 |\n",
       "| 8 | 320000                                     | 1                                          | 1.0                                        |  968                                       | 4620                                       | 3764 Suter St, Oakland, CA 94619           |\n",
       "| 9 | 635000                                     | 2                                          | 2.0                                        | 1000                                       | 3733                                       | 734 Tommy Dorsey Ct, Windsor, CA 95492     |\n",
       "\n"
      ],
      "text/plain": [
       "  price  bed bath sqft sqft_lot address                                   \n",
       "2 564900 2   2.5  2230 7405     40389 Calle Ebano, Indio, CA 92203        \n",
       "3 599999 3   2.0  2168 8712     135 Hillside Pl, Jackson, CA 95642        \n",
       "4 735000 3   2.0  1583 5227     54960 Avenida Rubio, La Quinta, CA 92253  \n",
       "5 554900 3   2.5  2617 9148     22204 Tumbleweed Dr, Canyon Lake, CA 92587\n",
       "8 320000 1   1.0   968 4620     3764 Suter St, Oakland, CA 94619          \n",
       "9 635000 2   2.0  1000 3733     734 Tommy Dorsey Ct, Windsor, CA 95492    "
      ]
     },
     "metadata": {},
     "output_type": "display_data"
    }
   ],
   "source": [
    "head(sqft)"
   ]
  },
  {
   "cell_type": "code",
   "execution_count": 9,
   "id": "9593bf12",
   "metadata": {
    "scrolled": true
   },
   "outputs": [],
   "source": [
    "acre <- housing[str_detect(housing$acre_sqft_lot, 'acre'),]\n",
    "colnames(acre)[5] <- 'acre_lot'\n",
    "\n",
    "acre$acre_lot <- sub('a.*','', acre$acre_lot)\n",
    "acre$acre_lot <- gsub(',','', acre$acre_lot)\n",
    "acre$acre_lot <- as.numeric(acre$acre_lot)"
   ]
  },
  {
   "cell_type": "code",
   "execution_count": 10,
   "id": "9dda4d94",
   "metadata": {
    "scrolled": true
   },
   "outputs": [
    {
     "data": {
      "text/html": [
       "<table>\n",
       "<thead><tr><th></th><th scope=col>price</th><th scope=col>bed</th><th scope=col>bath</th><th scope=col>sqft</th><th scope=col>acre_lot</th><th scope=col>address</th></tr></thead>\n",
       "<tbody>\n",
       "\t<tr><th scope=row>1</th><td>1195000                                     </td><td>4                                           </td><td>3.5                                         </td><td>2862                                        </td><td> 5.00                                       </td><td>10130 LA Clair Rd, Wilton, CA 95693         </td></tr>\n",
       "\t<tr><th scope=row>6</th><td>  89500                                     </td><td>2                                           </td><td>2.0                                         </td><td>1040                                        </td><td>21.66                                       </td><td>13 Oakwood Dr Unit 13, Petaluma, CA 94954   </td></tr>\n",
       "\t<tr><th scope=row>7</th><td> 599000                                     </td><td>3                                           </td><td>3.5                                         </td><td>2606                                        </td><td> 6.92                                       </td><td>30101 Dove Ct, Tehachapi, CA 93561          </td></tr>\n",
       "\t<tr><th scope=row>12</th><td> 495000                                     </td><td>3                                           </td><td>2.0                                         </td><td>1516                                        </td><td> 0.85                                       </td><td>17652 Cindy Ln, Grass Valley, CA 95945      </td></tr>\n",
       "\t<tr><th scope=row>15</th><td> 319000                                     </td><td>3                                           </td><td>2.0                                         </td><td>1757                                        </td><td> 0.32                                       </td><td>20800 Melville Dr, California City, CA 93505</td></tr>\n",
       "\t<tr><th scope=row>17</th><td> 979000                                     </td><td>4                                           </td><td>2.0                                         </td><td>2515                                        </td><td> 1.34                                       </td><td>11805 Costalot Ln, Lakeside, CA 92040       </td></tr>\n",
       "</tbody>\n",
       "</table>\n"
      ],
      "text/latex": [
       "\\begin{tabular}{r|llllll}\n",
       "  & price & bed & bath & sqft & acre\\_lot & address\\\\\n",
       "\\hline\n",
       "\t1 & 1195000                                      & 4                                            & 3.5                                          & 2862                                         &  5.00                                        & 10130 LA Clair Rd, Wilton, CA 95693         \\\\\n",
       "\t6 &   89500                                      & 2                                            & 2.0                                          & 1040                                         & 21.66                                        & 13 Oakwood Dr Unit 13, Petaluma, CA 94954   \\\\\n",
       "\t7 &  599000                                      & 3                                            & 3.5                                          & 2606                                         &  6.92                                        & 30101 Dove Ct, Tehachapi, CA 93561          \\\\\n",
       "\t12 &  495000                                      & 3                                            & 2.0                                          & 1516                                         &  0.85                                        & 17652 Cindy Ln, Grass Valley, CA 95945      \\\\\n",
       "\t15 &  319000                                      & 3                                            & 2.0                                          & 1757                                         &  0.32                                        & 20800 Melville Dr, California City, CA 93505\\\\\n",
       "\t17 &  979000                                      & 4                                            & 2.0                                          & 2515                                         &  1.34                                        & 11805 Costalot Ln, Lakeside, CA 92040       \\\\\n",
       "\\end{tabular}\n"
      ],
      "text/markdown": [
       "\n",
       "| <!--/--> | price | bed | bath | sqft | acre_lot | address |\n",
       "|---|---|---|---|---|---|---|\n",
       "| 1 | 1195000                                      | 4                                            | 3.5                                          | 2862                                         |  5.00                                        | 10130 LA Clair Rd, Wilton, CA 95693          |\n",
       "| 6 |   89500                                      | 2                                            | 2.0                                          | 1040                                         | 21.66                                        | 13 Oakwood Dr Unit 13, Petaluma, CA 94954    |\n",
       "| 7 |  599000                                      | 3                                            | 3.5                                          | 2606                                         |  6.92                                        | 30101 Dove Ct, Tehachapi, CA 93561           |\n",
       "| 12 |  495000                                      | 3                                            | 2.0                                          | 1516                                         |  0.85                                        | 17652 Cindy Ln, Grass Valley, CA 95945       |\n",
       "| 15 |  319000                                      | 3                                            | 2.0                                          | 1757                                         |  0.32                                        | 20800 Melville Dr, California City, CA 93505 |\n",
       "| 17 |  979000                                      | 4                                            | 2.0                                          | 2515                                         |  1.34                                        | 11805 Costalot Ln, Lakeside, CA 92040        |\n",
       "\n"
      ],
      "text/plain": [
       "   price   bed bath sqft acre_lot address                                     \n",
       "1  1195000 4   3.5  2862  5.00    10130 LA Clair Rd, Wilton, CA 95693         \n",
       "6    89500 2   2.0  1040 21.66    13 Oakwood Dr Unit 13, Petaluma, CA 94954   \n",
       "7   599000 3   3.5  2606  6.92    30101 Dove Ct, Tehachapi, CA 93561          \n",
       "12  495000 3   2.0  1516  0.85    17652 Cindy Ln, Grass Valley, CA 95945      \n",
       "15  319000 3   2.0  1757  0.32    20800 Melville Dr, California City, CA 93505\n",
       "17  979000 4   2.0  2515  1.34    11805 Costalot Ln, Lakeside, CA 92040       "
      ]
     },
     "metadata": {},
     "output_type": "display_data"
    }
   ],
   "source": [
    "head(acre)"
   ]
  },
  {
   "cell_type": "markdown",
   "id": "988b961b",
   "metadata": {},
   "source": [
    "## Visualizing Data"
   ]
  },
  {
   "cell_type": "code",
   "execution_count": 80,
   "id": "40fa336d",
   "metadata": {},
   "outputs": [],
   "source": [
    "options(repr.plot.height=5)\n",
    "options(scipen=5)\n",
    "plot_price <- data.frame(Characters=character(), Ints=integer(), stringsAsFactors=FALSE)\n",
    "colnames(plot_price) <- c('price_range', 'frequency')"
   ]
  },
  {
   "cell_type": "code",
   "execution_count": 81,
   "id": "d5ed2fd7",
   "metadata": {},
   "outputs": [],
   "source": [
    "for (x in seq(100000, 3000000, by=100000)){\n",
    "    min <- x-100000\n",
    "    if(x >= 1000000){\n",
    "        range <- paste('$', as.integer(min)/1000000, 'M - ', as.integer(x)/1000000, 'M', sep='')\n",
    "    } else {\n",
    "        range <- paste('$', as.integer(min)/1000, 'k - ', as.integer(x)/1000, 'k', sep='')\n",
    "    }\n",
    "    plot_price[nrow(plot_price)+1, ] <- c(range, nrow(subset(housing, housing$price > min & housing$price <= x)))\n",
    "}"
   ]
  },
  {
   "cell_type": "code",
   "execution_count": 82,
   "id": "0f2899c2",
   "metadata": {},
   "outputs": [],
   "source": [
    "plot_price[nrow(plot_price)+1, ] <- c('$3M - 4M', nrow(subset(housing, housing$price > 3000000)))\n",
    "plot_price$frequency <- as.integer(plot_price$frequency)"
   ]
  },
  {
   "cell_type": "code",
   "execution_count": 83,
   "id": "b9d332b7",
   "metadata": {},
   "outputs": [
    {
     "data": {
      "image/png": "[encoded data removed]",
      "text/plain": [
       "plot without title"
      ]
     },
     "metadata": {},
     "output_type": "display_data"
    }
   ],
   "source": [
    "plot <- ggplot(plot_price, aes(price_range, frequency)) + \n",
    "        geom_bar(stat='identity', fill='#619CFF') +\n",
    "        theme(axis.text.x = element_text(angle=45, vjust=1, hjust=1)) +\n",
    "        scale_y_continuous(limits = c(0,550), breaks=seq(0,550,100)) +\n",
    "        scale_x_discrete(limits=plot_price$price_range)\n",
    "plot"
   ]
  },
  {
   "cell_type": "code",
   "execution_count": 129,
   "id": "40d55ccf",
   "metadata": {},
   "outputs": [
    {
     "data": {
      "image/png": "[encoded data removed]",
      "text/plain": [
       "plot without title"
      ]
     },
     "metadata": {},
     "output_type": "display_data"
    }
   ],
   "source": [
    "price_sqft <- ggplot(subset(housing, housing$price < 1000000), aes(price, sqft)) +\n",
    "              geom_point() +\n",
    "              geom_smooth(method='lm')\n",
    "price_sqft"
   ]
  },
  {
   "cell_type": "markdown",
   "id": "7491fde4",
   "metadata": {},
   "source": [
    "## Median Household Income in California\n",
    "The Median Income for a household in California is \\\\$84,097.\n",
    "\n",
    "Let's say a married couple from California is looking for a home within their budget. They are not interested in having a half bath, but would like to have a lot of baths in the home. Lastly, they prefer to have the home on a 1 acre or bigger lot. They have the median household income and have saved up two years worth to spend on the down payment and closing costs. Based on realtor.com's Affordability Calculator, they can afford a \\\\$459,700 home or less.\n",
    "\n",
    "Let us use the `acre` dataframe we created early as those houses are more than 10,000sqft."
   ]
  },
  {
   "cell_type": "code",
   "execution_count": 133,
   "id": "f50d1490",
   "metadata": {},
   "outputs": [],
   "source": [
    "cali_homes <- subset(acre, acre$price < 459700)"
   ]
  },
  {
   "cell_type": "markdown",
   "id": "3cda7905",
   "metadata": {},
   "source": [
    "First let's explore the average prices per bedrooms in the home."
   ]
  },
  {
   "cell_type": "code",
   "execution_count": 134,
   "id": "8d4a0ff5",
   "metadata": {},
   "outputs": [],
   "source": [
    "price_bed_df <- data.frame(matrix(ncol=2, nrow=length(unique(cali_homes$bed))))\n",
    "colnames(price_bed_df) = c('Bed', 'AvgPrice')\n",
    "beds <- cali_homes[order(cali_homes$bed),]\n",
    "bed_levels <- unique(beds$bed)"
   ]
  },
  {
   "cell_type": "code",
   "execution_count": 135,
   "id": "3c23a4b5",
   "metadata": {},
   "outputs": [],
   "source": [
    "for (x in 1:length(bed_levels)){\n",
    "    price_bed_df[x,] <- c(unique(beds$bed)[x], mean(cali_homes[cali_homes$bed==bed_levels[x],]$price))\n",
    "}"
   ]
  },
  {
   "cell_type": "code",
   "execution_count": 146,
   "id": "7b18aee6",
   "metadata": {
    "scrolled": false
   },
   "outputs": [
    {
     "data": {
      "text/html": [
       "<table>\n",
       "<thead><tr><th scope=col>Bed</th><th scope=col>AvgPrice</th></tr></thead>\n",
       "<tbody>\n",
       "\t<tr><td>1       </td><td>316642.4</td></tr>\n",
       "\t<tr><td>2       </td><td>290303.6</td></tr>\n",
       "\t<tr><td>3       </td><td>337423.2</td></tr>\n",
       "\t<tr><td>4       </td><td>367908.9</td></tr>\n",
       "\t<tr><td>5       </td><td>292414.3</td></tr>\n",
       "\t<tr><td>6       </td><td>339000.0</td></tr>\n",
       "</tbody>\n",
       "</table>\n"
      ],
      "text/latex": [
       "\\begin{tabular}{r|ll}\n",
       " Bed & AvgPrice\\\\\n",
       "\\hline\n",
       "\t 1        & 316642.4\\\\\n",
       "\t 2        & 290303.6\\\\\n",
       "\t 3        & 337423.2\\\\\n",
       "\t 4        & 367908.9\\\\\n",
       "\t 5        & 292414.3\\\\\n",
       "\t 6        & 339000.0\\\\\n",
       "\\end{tabular}\n"
      ],
      "text/markdown": [
       "\n",
       "| Bed | AvgPrice |\n",
       "|---|---|\n",
       "| 1        | 316642.4 |\n",
       "| 2        | 290303.6 |\n",
       "| 3        | 337423.2 |\n",
       "| 4        | 367908.9 |\n",
       "| 5        | 292414.3 |\n",
       "| 6        | 339000.0 |\n",
       "\n"
      ],
      "text/plain": [
       "  Bed AvgPrice\n",
       "1 1   316642.4\n",
       "2 2   290303.6\n",
       "3 3   337423.2\n",
       "4 4   367908.9\n",
       "5 5   292414.3\n",
       "6 6   339000.0"
      ]
     },
     "metadata": {},
     "output_type": "display_data"
    }
   ],
   "source": [
    "price_bed_df"
   ]
  },
  {
   "cell_type": "code",
   "execution_count": 137,
   "id": "87c46dec",
   "metadata": {},
   "outputs": [
    {
     "data": {
      "image/png": "[encoded data removed]",
      "text/plain": [
       "plot without title"
      ]
     },
     "metadata": {},
     "output_type": "display_data"
    }
   ],
   "source": [
    "price_bed = ggplot(price_bed_df, aes(Bed, AvgPrice)) +\n",
    "            geom_bar(stat='identity', fill='#619CFF') +\n",
    "            scale_y_continuous(limits = c(0,500000), breaks=seq(0,500000,100000))\n",
    "price_bed"
   ]
  },
  {
   "cell_type": "markdown",
   "id": "fcd2ab2f",
   "metadata": {},
   "source": [
    "From the graph we can see that a home with two bedrooms are the cheapest while a home with four bedrooms are the most expensive out of the bunch. However a home with five bedrooms is almost the same price as a two bedroom home.\n",
    "\n",
    "Next, we'll explore the average price per baths in the home."
   ]
  },
  {
   "cell_type": "code",
   "execution_count": 138,
   "id": "ebd5fee2",
   "metadata": {
    "scrolled": true
   },
   "outputs": [],
   "source": [
    "price_bath_df <- data.frame(matrix(ncol=2, nrow=length(unique(cali_homes$bath))))\n",
    "colnames(price_bath_df) = c('Bath', 'AvgPrice')\n",
    "baths <- cali_homes[order(cali_homes$bath),]\n",
    "bath_levels <- unique(baths$bath)"
   ]
  },
  {
   "cell_type": "code",
   "execution_count": 139,
   "id": "7b6e9b86",
   "metadata": {},
   "outputs": [],
   "source": [
    "for (x in 1:length(bath_levels)){\n",
    "    price_bath_df[x,] <- c(unique(baths$bath)[x], mean(cali_homes[cali_homes$bath==bath_levels[x],]$price))\n",
    "}"
   ]
  },
  {
   "cell_type": "code",
   "execution_count": 147,
   "id": "0eab9b97",
   "metadata": {},
   "outputs": [
    {
     "data": {
      "text/html": [
       "<table>\n",
       "<thead><tr><th scope=col>Bath</th><th scope=col>AvgPrice</th></tr></thead>\n",
       "<tbody>\n",
       "\t<tr><td>1.0     </td><td>294818.7</td></tr>\n",
       "\t<tr><td>1.5     </td><td>346135.0</td></tr>\n",
       "\t<tr><td>2.0     </td><td>322014.5</td></tr>\n",
       "\t<tr><td>2.5     </td><td>390221.1</td></tr>\n",
       "\t<tr><td>3.0     </td><td>368624.3</td></tr>\n",
       "\t<tr><td>3.5     </td><td>301666.7</td></tr>\n",
       "</tbody>\n",
       "</table>\n"
      ],
      "text/latex": [
       "\\begin{tabular}{r|ll}\n",
       " Bath & AvgPrice\\\\\n",
       "\\hline\n",
       "\t 1.0      & 294818.7\\\\\n",
       "\t 1.5      & 346135.0\\\\\n",
       "\t 2.0      & 322014.5\\\\\n",
       "\t 2.5      & 390221.1\\\\\n",
       "\t 3.0      & 368624.3\\\\\n",
       "\t 3.5      & 301666.7\\\\\n",
       "\\end{tabular}\n"
      ],
      "text/markdown": [
       "\n",
       "| Bath | AvgPrice |\n",
       "|---|---|\n",
       "| 1.0      | 294818.7 |\n",
       "| 1.5      | 346135.0 |\n",
       "| 2.0      | 322014.5 |\n",
       "| 2.5      | 390221.1 |\n",
       "| 3.0      | 368624.3 |\n",
       "| 3.5      | 301666.7 |\n",
       "\n"
      ],
      "text/plain": [
       "  Bath AvgPrice\n",
       "1 1.0  294818.7\n",
       "2 1.5  346135.0\n",
       "3 2.0  322014.5\n",
       "4 2.5  390221.1\n",
       "5 3.0  368624.3\n",
       "6 3.5  301666.7"
      ]
     },
     "metadata": {},
     "output_type": "display_data"
    }
   ],
   "source": [
    "price_bath_df"
   ]
  },
  {
   "cell_type": "code",
   "execution_count": 141,
   "id": "cc884477",
   "metadata": {},
   "outputs": [
    {
     "data": {
      "image/png": "[encoded data removed]",
      "text/plain": [
       "plot without title"
      ]
     },
     "metadata": {},
     "output_type": "display_data"
    }
   ],
   "source": [
    "price_bath = ggplot(price_bath_df, aes(Bath, AvgPrice)) +\n",
    "            geom_bar(stat='identity', fill='#619CFF') +\n",
    "            scale_y_continuous(limits = c(0,500000), breaks=seq(0,500000,100000))\n",
    "price_bath"
   ]
  },
  {
   "cell_type": "markdown",
   "id": "ae52af54",
   "metadata": {},
   "source": [
    "Since our married couple wants a home with lots of bath, we can recommend a home with 3 baths that has an average price of \\\\$36,8624.30 Now let us compare the home size to the lot size."
   ]
  },
  {
   "cell_type": "code",
   "execution_count": 175,
   "id": "20b6f9df",
   "metadata": {
    "scrolled": true
   },
   "outputs": [
    {
     "data": {
      "text/html": [
       "<table>\n",
       "<thead><tr><th></th><th scope=col>price</th><th scope=col>bed</th><th scope=col>bath</th><th scope=col>sqft</th><th scope=col>acre_lot</th><th scope=col>address</th></tr></thead>\n",
       "<tbody>\n",
       "\t<tr><th scope=row>89</th><td>285000                                             </td><td>3                                                  </td><td>3                                                  </td><td>1379                                               </td><td>80.00                                              </td><td>1245 Iron Gate Rd, Weitchpec, CA 95546             </td></tr>\n",
       "\t<tr><th scope=row>2003</th><td>419990                                             </td><td>4                                                  </td><td>3                                                  </td><td>2043                                               </td><td>26.08                                              </td><td>2651 Greenwood Ct, Palmdale, CA 93550              </td></tr>\n",
       "\t<tr><th scope=row>1869</th><td>305000                                             </td><td>5                                                  </td><td>3                                                  </td><td>2184                                               </td><td>16.36                                              </td><td>4854 Pegleg Rd, Mariposa, CA 95338                 </td></tr>\n",
       "\t<tr><th scope=row>1808</th><td>379000                                             </td><td>3                                                  </td><td>3                                                  </td><td>1584                                               </td><td> 3.67                                              </td><td>41239 Lilley Mountain Dr, Coarsegold, CA 93614     </td></tr>\n",
       "\t<tr><th scope=row>408</th><td>375000                                             </td><td>4                                                  </td><td>3                                                  </td><td>2564                                               </td><td> 2.56                                              </td><td>22272 Saddleback Rd, Tehachapi, CA 93561           </td></tr>\n",
       "\t<tr><th scope=row>3161</th><td>375000                                             </td><td>4                                                  </td><td>3                                                  </td><td>2640                                               </td><td> 1.85                                              </td><td>16315 County Road 71, Alturas, CA 96101            </td></tr>\n",
       "\t<tr><th scope=row>2755</th><td>325000                                             </td><td>4                                                  </td><td>3                                                  </td><td>2980                                               </td><td> 1.59                                              </td><td>24693 Mesa Dr, Pioneer, CA 95666                   </td></tr>\n",
       "\t<tr><th scope=row>3491</th><td>239900                                             </td><td>5                                                  </td><td>3                                                  </td><td>1426                                               </td><td> 1.11                                              </td><td>130 and 140 Sugar Pine Dr, Trinity Center, CA 96091</td></tr>\n",
       "\t<tr><th scope=row>80</th><td>444000                                             </td><td>3                                                  </td><td>3                                                  </td><td>2120                                               </td><td> 0.62                                              </td><td>13228 Thistle Loop, Penn Valley, CA 95946          </td></tr>\n",
       "\t<tr><th scope=row>948</th><td>340000                                             </td><td>3                                                  </td><td>3                                                  </td><td>1726                                               </td><td> 0.58                                              </td><td>6791 Dogtown Rd, Coulterville, CA 95311            </td></tr>\n",
       "</tbody>\n",
       "</table>\n"
      ],
      "text/latex": [
       "\\begin{tabular}{r|llllll}\n",
       "  & price & bed & bath & sqft & acre\\_lot & address\\\\\n",
       "\\hline\n",
       "\t89 & 285000                                              & 3                                                   & 3                                                   & 1379                                                & 80.00                                               & 1245 Iron Gate Rd, Weitchpec, CA 95546             \\\\\n",
       "\t2003 & 419990                                              & 4                                                   & 3                                                   & 2043                                                & 26.08                                               & 2651 Greenwood Ct, Palmdale, CA 93550              \\\\\n",
       "\t1869 & 305000                                              & 5                                                   & 3                                                   & 2184                                                & 16.36                                               & 4854 Pegleg Rd, Mariposa, CA 95338                 \\\\\n",
       "\t1808 & 379000                                              & 3                                                   & 3                                                   & 1584                                                &  3.67                                               & 41239 Lilley Mountain Dr, Coarsegold, CA 93614     \\\\\n",
       "\t408 & 375000                                              & 4                                                   & 3                                                   & 2564                                                &  2.56                                               & 22272 Saddleback Rd, Tehachapi, CA 93561           \\\\\n",
       "\t3161 & 375000                                              & 4                                                   & 3                                                   & 2640                                                &  1.85                                               & 16315 County Road 71, Alturas, CA 96101            \\\\\n",
       "\t2755 & 325000                                              & 4                                                   & 3                                                   & 2980                                                &  1.59                                               & 24693 Mesa Dr, Pioneer, CA 95666                   \\\\\n",
       "\t3491 & 239900                                              & 5                                                   & 3                                                   & 1426                                                &  1.11                                               & 130 and 140 Sugar Pine Dr, Trinity Center, CA 96091\\\\\n",
       "\t80 & 444000                                              & 3                                                   & 3                                                   & 2120                                                &  0.62                                               & 13228 Thistle Loop, Penn Valley, CA 95946          \\\\\n",
       "\t948 & 340000                                              & 3                                                   & 3                                                   & 1726                                                &  0.58                                               & 6791 Dogtown Rd, Coulterville, CA 95311            \\\\\n",
       "\\end{tabular}\n"
      ],
      "text/markdown": [
       "\n",
       "| <!--/--> | price | bed | bath | sqft | acre_lot | address |\n",
       "|---|---|---|---|---|---|---|\n",
       "| 89 | 285000                                              | 3                                                   | 3                                                   | 1379                                                | 80.00                                               | 1245 Iron Gate Rd, Weitchpec, CA 95546              |\n",
       "| 2003 | 419990                                              | 4                                                   | 3                                                   | 2043                                                | 26.08                                               | 2651 Greenwood Ct, Palmdale, CA 93550               |\n",
       "| 1869 | 305000                                              | 5                                                   | 3                                                   | 2184                                                | 16.36                                               | 4854 Pegleg Rd, Mariposa, CA 95338                  |\n",
       "| 1808 | 379000                                              | 3                                                   | 3                                                   | 1584                                                |  3.67                                               | 41239 Lilley Mountain Dr, Coarsegold, CA 93614      |\n",
       "| 408 | 375000                                              | 4                                                   | 3                                                   | 2564                                                |  2.56                                               | 22272 Saddleback Rd, Tehachapi, CA 93561            |\n",
       "| 3161 | 375000                                              | 4                                                   | 3                                                   | 2640                                                |  1.85                                               | 16315 County Road 71, Alturas, CA 96101             |\n",
       "| 2755 | 325000                                              | 4                                                   | 3                                                   | 2980                                                |  1.59                                               | 24693 Mesa Dr, Pioneer, CA 95666                    |\n",
       "| 3491 | 239900                                              | 5                                                   | 3                                                   | 1426                                                |  1.11                                               | 130 and 140 Sugar Pine Dr, Trinity Center, CA 96091 |\n",
       "| 80 | 444000                                              | 3                                                   | 3                                                   | 2120                                                |  0.62                                               | 13228 Thistle Loop, Penn Valley, CA 95946           |\n",
       "| 948 | 340000                                              | 3                                                   | 3                                                   | 1726                                                |  0.58                                               | 6791 Dogtown Rd, Coulterville, CA 95311             |\n",
       "\n"
      ],
      "text/plain": [
       "     price  bed bath sqft acre_lot\n",
       "89   285000 3   3    1379 80.00   \n",
       "2003 419990 4   3    2043 26.08   \n",
       "1869 305000 5   3    2184 16.36   \n",
       "1808 379000 3   3    1584  3.67   \n",
       "408  375000 4   3    2564  2.56   \n",
       "3161 375000 4   3    2640  1.85   \n",
       "2755 325000 4   3    2980  1.59   \n",
       "3491 239900 5   3    1426  1.11   \n",
       "80   444000 3   3    2120  0.62   \n",
       "948  340000 3   3    1726  0.58   \n",
       "     address                                            \n",
       "89   1245 Iron Gate Rd, Weitchpec, CA 95546             \n",
       "2003 2651 Greenwood Ct, Palmdale, CA 93550              \n",
       "1869 4854 Pegleg Rd, Mariposa, CA 95338                 \n",
       "1808 41239 Lilley Mountain Dr, Coarsegold, CA 93614     \n",
       "408  22272 Saddleback Rd, Tehachapi, CA 93561           \n",
       "3161 16315 County Road 71, Alturas, CA 96101            \n",
       "2755 24693 Mesa Dr, Pioneer, CA 95666                   \n",
       "3491 130 and 140 Sugar Pine Dr, Trinity Center, CA 96091\n",
       "80   13228 Thistle Loop, Penn Valley, CA 95946          \n",
       "948  6791 Dogtown Rd, Coulterville, CA 95311            "
      ]
     },
     "metadata": {},
     "output_type": "display_data"
    }
   ],
   "source": [
    "best_homes <- subset(cali_homes, cali_homes$bath==3)\n",
    "head(best_homes[order(-best_homes$acre_lot),], 10)"
   ]
  },
  {
   "cell_type": "markdown",
   "id": "a7fb67ea",
   "metadata": {},
   "source": [
    "##### (03/04/2023 UPDATE): Since the dataset is outdated, I checked the first five home addresses on the dataframe above on realtor's website and observed that the four highest lot size are sold."
   ]
  },
  {
   "cell_type": "code",
   "execution_count": 196,
   "id": "c6857f8b",
   "metadata": {},
   "outputs": [
    {
     "data": {
      "image/png": "[encoded data removed]",
      "text/plain": [
       "plot without title"
      ]
     },
     "metadata": {},
     "output_type": "display_data"
    }
   ],
   "source": [
    "recs <- head(best_homes[order(best_homes$acre_lot),], -4)\n",
    "best_plot <- ggplot(recs, aes(acre_lot, sqft)) +\n",
    "            geom_point()\n",
    "best_plot"
   ]
  },
  {
   "cell_type": "markdown",
   "id": "93ad5d5d",
   "metadata": {},
   "source": [
    "Thus within the options, the best homes the married couple can afford are:"
   ]
  },
  {
   "cell_type": "code",
   "execution_count": 197,
   "id": "fa453d6e",
   "metadata": {},
   "outputs": [
    {
     "data": {
      "text/html": [
       "<table>\n",
       "<thead><tr><th></th><th scope=col>price</th><th scope=col>bed</th><th scope=col>bath</th><th scope=col>sqft</th><th scope=col>acre_lot</th><th scope=col>address</th></tr></thead>\n",
       "<tbody>\n",
       "\t<tr><th scope=row>408</th><td>375000                                             </td><td>4                                                  </td><td>3                                                  </td><td>2564                                               </td><td>2.56                                               </td><td>22272 Saddleback Rd, Tehachapi, CA 93561           </td></tr>\n",
       "\t<tr><th scope=row>3161</th><td>375000                                             </td><td>4                                                  </td><td>3                                                  </td><td>2640                                               </td><td>1.85                                               </td><td>16315 County Road 71, Alturas, CA 96101            </td></tr>\n",
       "\t<tr><th scope=row>2755</th><td>325000                                             </td><td>4                                                  </td><td>3                                                  </td><td>2980                                               </td><td>1.59                                               </td><td>24693 Mesa Dr, Pioneer, CA 95666                   </td></tr>\n",
       "\t<tr><th scope=row>3491</th><td>239900                                             </td><td>5                                                  </td><td>3                                                  </td><td>1426                                               </td><td>1.11                                               </td><td>130 and 140 Sugar Pine Dr, Trinity Center, CA 96091</td></tr>\n",
       "</tbody>\n",
       "</table>\n"
      ],
      "text/latex": [
       "\\begin{tabular}{r|llllll}\n",
       "  & price & bed & bath & sqft & acre\\_lot & address\\\\\n",
       "\\hline\n",
       "\t408 & 375000                                              & 4                                                   & 3                                                   & 2564                                                & 2.56                                                & 22272 Saddleback Rd, Tehachapi, CA 93561           \\\\\n",
       "\t3161 & 375000                                              & 4                                                   & 3                                                   & 2640                                                & 1.85                                                & 16315 County Road 71, Alturas, CA 96101            \\\\\n",
       "\t2755 & 325000                                              & 4                                                   & 3                                                   & 2980                                                & 1.59                                                & 24693 Mesa Dr, Pioneer, CA 95666                   \\\\\n",
       "\t3491 & 239900                                              & 5                                                   & 3                                                   & 1426                                                & 1.11                                                & 130 and 140 Sugar Pine Dr, Trinity Center, CA 96091\\\\\n",
       "\\end{tabular}\n"
      ],
      "text/markdown": [
       "\n",
       "| <!--/--> | price | bed | bath | sqft | acre_lot | address |\n",
       "|---|---|---|---|---|---|---|\n",
       "| 408 | 375000                                              | 4                                                   | 3                                                   | 2564                                                | 2.56                                                | 22272 Saddleback Rd, Tehachapi, CA 93561            |\n",
       "| 3161 | 375000                                              | 4                                                   | 3                                                   | 2640                                                | 1.85                                                | 16315 County Road 71, Alturas, CA 96101             |\n",
       "| 2755 | 325000                                              | 4                                                   | 3                                                   | 2980                                                | 1.59                                                | 24693 Mesa Dr, Pioneer, CA 95666                    |\n",
       "| 3491 | 239900                                              | 5                                                   | 3                                                   | 1426                                                | 1.11                                                | 130 and 140 Sugar Pine Dr, Trinity Center, CA 96091 |\n",
       "\n"
      ],
      "text/plain": [
       "     price  bed bath sqft acre_lot\n",
       "408  375000 4   3    2564 2.56    \n",
       "3161 375000 4   3    2640 1.85    \n",
       "2755 325000 4   3    2980 1.59    \n",
       "3491 239900 5   3    1426 1.11    \n",
       "     address                                            \n",
       "408  22272 Saddleback Rd, Tehachapi, CA 93561           \n",
       "3161 16315 County Road 71, Alturas, CA 96101            \n",
       "2755 24693 Mesa Dr, Pioneer, CA 95666                   \n",
       "3491 130 and 140 Sugar Pine Dr, Trinity Center, CA 96091"
      ]
     },
     "metadata": {},
     "output_type": "display_data"
    }
   ],
   "source": [
    "head(recs[order(-recs$acre_lot),],4)"
   ]
  },
  {
   "cell_type": "markdown",
   "id": "c3d0f278",
   "metadata": {},
   "source": [
    "## Same exercise but using `sqft` dataframe"
   ]
  },
  {
   "cell_type": "code",
   "execution_count": 184,
   "id": "d2a84dd1",
   "metadata": {},
   "outputs": [],
   "source": [
    "alt_homes <- sqft[sqft$price < 459700,]"
   ]
  },
  {
   "cell_type": "code",
   "execution_count": 190,
   "id": "97c1ef5b",
   "metadata": {},
   "outputs": [
    {
     "data": {
      "image/png": "[encoded data removed]",
      "text/plain": [
       "plot without title"
      ]
     },
     "metadata": {},
     "output_type": "display_data"
    }
   ],
   "source": [
    "alt_plot <- ggplot(alt_homes, aes(sqft_lot, sqft)) +\n",
    "            geom_point() +\n",
    "            geom_smooth(method='lm')\n",
    "alt_plot"
   ]
  },
  {
   "cell_type": "markdown",
   "id": "8cadc3fd",
   "metadata": {},
   "source": [
    "Thus the best homes for the married couple using `sqft` dataframe are:"
   ]
  },
  {
   "cell_type": "code",
   "execution_count": 191,
   "id": "eb4ff29e",
   "metadata": {},
   "outputs": [
    {
     "data": {
      "text/html": [
       "<table>\n",
       "<thead><tr><th></th><th scope=col>price</th><th scope=col>bed</th><th scope=col>bath</th><th scope=col>sqft</th><th scope=col>sqft_lot</th><th scope=col>address</th></tr></thead>\n",
       "<tbody>\n",
       "\t<tr><th scope=row>1220</th><td>424900                               </td><td>5                                    </td><td>5.0                                  </td><td>2290                                 </td><td>7100                                 </td><td>16451 Chestnut St, Hesperia, CA 92345</td></tr>\n",
       "\t<tr><th scope=row>399</th><td>369900                               </td><td>5                                    </td><td>4.0                                  </td><td>2250                                 </td><td>8259                                 </td><td>1351 Frankfort Ct, Merced, CA 95348  </td></tr>\n",
       "\t<tr><th scope=row>959</th><td>410000                               </td><td>5                                    </td><td>4.0                                  </td><td>2645                                 </td><td>6996                                 </td><td>5425 W Lansing Way, Fresno, CA 93722 </td></tr>\n",
       "\t<tr><th scope=row>1200</th><td>369999                               </td><td>6                                    </td><td>4.0                                  </td><td>1800                                 </td><td>5227                                 </td><td>1026 Quincy St, Bakersfield, CA 93305</td></tr>\n",
       "\t<tr><th scope=row>1499</th><td>400000                               </td><td>4                                    </td><td>4.0                                  </td><td>2772                                 </td><td>9425                                 </td><td>4348 E Fairfax Ave, Fresno, CA 93703 </td></tr>\n",
       "\t<tr><th scope=row>1506</th><td>449000                               </td><td>5                                    </td><td>4.0                                  </td><td> 873                                 </td><td>9374                                 </td><td>929 Columbia St, Madera, CA 93638    </td></tr>\n",
       "\t<tr><th scope=row>3361</th><td>389000                               </td><td>2                                    </td><td>4.0                                  </td><td>1456                                 </td><td>4792                                 </td><td>6333 Tuckaway Ave, Banning, CA 92220 </td></tr>\n",
       "\t<tr><th scope=row>270</th><td>425000                               </td><td>4                                    </td><td>3.5                                  </td><td>1736                                 </td><td>6534                                 </td><td>46145 Willow Ln, Indio, CA 92201     </td></tr>\n",
       "\t<tr><th scope=row>2369</th><td>170000                               </td><td>6                                    </td><td>3.5                                  </td><td>4560                                 </td><td>5000                                 </td><td>42 Av Cumbres De Coronel, CA 22715   </td></tr>\n",
       "\t<tr><th scope=row>36</th><td>249200                               </td><td>3                                    </td><td>3.0                                  </td><td>1293                                 </td><td>6072                                 </td><td>1825 Letts Ave, Corcoran, CA 93212   </td></tr>\n",
       "</tbody>\n",
       "</table>\n"
      ],
      "text/latex": [
       "\\begin{tabular}{r|llllll}\n",
       "  & price & bed & bath & sqft & sqft\\_lot & address\\\\\n",
       "\\hline\n",
       "\t1220 & 424900                                & 5                                     & 5.0                                   & 2290                                  & 7100                                  & 16451 Chestnut St, Hesperia, CA 92345\\\\\n",
       "\t399 & 369900                                & 5                                     & 4.0                                   & 2250                                  & 8259                                  & 1351 Frankfort Ct, Merced, CA 95348  \\\\\n",
       "\t959 & 410000                                & 5                                     & 4.0                                   & 2645                                  & 6996                                  & 5425 W Lansing Way, Fresno, CA 93722 \\\\\n",
       "\t1200 & 369999                                & 6                                     & 4.0                                   & 1800                                  & 5227                                  & 1026 Quincy St, Bakersfield, CA 93305\\\\\n",
       "\t1499 & 400000                                & 4                                     & 4.0                                   & 2772                                  & 9425                                  & 4348 E Fairfax Ave, Fresno, CA 93703 \\\\\n",
       "\t1506 & 449000                                & 5                                     & 4.0                                   &  873                                  & 9374                                  & 929 Columbia St, Madera, CA 93638    \\\\\n",
       "\t3361 & 389000                                & 2                                     & 4.0                                   & 1456                                  & 4792                                  & 6333 Tuckaway Ave, Banning, CA 92220 \\\\\n",
       "\t270 & 425000                                & 4                                     & 3.5                                   & 1736                                  & 6534                                  & 46145 Willow Ln, Indio, CA 92201     \\\\\n",
       "\t2369 & 170000                                & 6                                     & 3.5                                   & 4560                                  & 5000                                  & 42 Av Cumbres De Coronel, CA 22715   \\\\\n",
       "\t36 & 249200                                & 3                                     & 3.0                                   & 1293                                  & 6072                                  & 1825 Letts Ave, Corcoran, CA 93212   \\\\\n",
       "\\end{tabular}\n"
      ],
      "text/markdown": [
       "\n",
       "| <!--/--> | price | bed | bath | sqft | sqft_lot | address |\n",
       "|---|---|---|---|---|---|---|\n",
       "| 1220 | 424900                                | 5                                     | 5.0                                   | 2290                                  | 7100                                  | 16451 Chestnut St, Hesperia, CA 92345 |\n",
       "| 399 | 369900                                | 5                                     | 4.0                                   | 2250                                  | 8259                                  | 1351 Frankfort Ct, Merced, CA 95348   |\n",
       "| 959 | 410000                                | 5                                     | 4.0                                   | 2645                                  | 6996                                  | 5425 W Lansing Way, Fresno, CA 93722  |\n",
       "| 1200 | 369999                                | 6                                     | 4.0                                   | 1800                                  | 5227                                  | 1026 Quincy St, Bakersfield, CA 93305 |\n",
       "| 1499 | 400000                                | 4                                     | 4.0                                   | 2772                                  | 9425                                  | 4348 E Fairfax Ave, Fresno, CA 93703  |\n",
       "| 1506 | 449000                                | 5                                     | 4.0                                   |  873                                  | 9374                                  | 929 Columbia St, Madera, CA 93638     |\n",
       "| 3361 | 389000                                | 2                                     | 4.0                                   | 1456                                  | 4792                                  | 6333 Tuckaway Ave, Banning, CA 92220  |\n",
       "| 270 | 425000                                | 4                                     | 3.5                                   | 1736                                  | 6534                                  | 46145 Willow Ln, Indio, CA 92201      |\n",
       "| 2369 | 170000                                | 6                                     | 3.5                                   | 4560                                  | 5000                                  | 42 Av Cumbres De Coronel, CA 22715    |\n",
       "| 36 | 249200                                | 3                                     | 3.0                                   | 1293                                  | 6072                                  | 1825 Letts Ave, Corcoran, CA 93212    |\n",
       "\n"
      ],
      "text/plain": [
       "     price  bed bath sqft sqft_lot address                              \n",
       "1220 424900 5   5.0  2290 7100     16451 Chestnut St, Hesperia, CA 92345\n",
       "399  369900 5   4.0  2250 8259     1351 Frankfort Ct, Merced, CA 95348  \n",
       "959  410000 5   4.0  2645 6996     5425 W Lansing Way, Fresno, CA 93722 \n",
       "1200 369999 6   4.0  1800 5227     1026 Quincy St, Bakersfield, CA 93305\n",
       "1499 400000 4   4.0  2772 9425     4348 E Fairfax Ave, Fresno, CA 93703 \n",
       "1506 449000 5   4.0   873 9374     929 Columbia St, Madera, CA 93638    \n",
       "3361 389000 2   4.0  1456 4792     6333 Tuckaway Ave, Banning, CA 92220 \n",
       "270  425000 4   3.5  1736 6534     46145 Willow Ln, Indio, CA 92201     \n",
       "2369 170000 6   3.5  4560 5000     42 Av Cumbres De Coronel, CA 22715   \n",
       "36   249200 3   3.0  1293 6072     1825 Letts Ave, Corcoran, CA 93212   "
      ]
     },
     "metadata": {},
     "output_type": "display_data"
    }
   ],
   "source": [
    "head(alt_homes[order(-alt_homes$bath),], 10)"
   ]
  },
  {
   "cell_type": "code",
   "execution_count": null,
   "id": "d2f5a40c",
   "metadata": {},
   "outputs": [],
   "source": []
  }
 ],
 "metadata": {
  "kernelspec": {
   "display_name": "R",
   "language": "R",
   "name": "ir"
  },
  "language_info": {
   "codemirror_mode": "r",
   "file_extension": ".r",
   "mimetype": "text/x-r-source",
   "name": "R",
   "pygments_lexer": "r",
   "version": "3.6.1"
  }
 },
 "nbformat": 4,
 "nbformat_minor": 5
}
